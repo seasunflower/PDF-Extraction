{
 "cells": [
  {
   "cell_type": "markdown",
   "id": "86be75d8-61c9-4b4d-b71e-5f50c40064cd",
   "metadata": {},
   "source": [
    "# Extracting Tables from an Invoice Using pdfplumber\n",
    "\n",
    "This code demonstrates how to extract tabular data, such as line items, prices, quantities, and totals, from an invoice using pyplumber. Extracting tables from invoices is useful in scenarios where structured data from financial documents is needed for analysis, automation, or integration with other systems.\n",
    "\n",
    "## Use Case\n",
    "- **Invoices**: Automatically extracting product descriptions, prices, quantities, and totals from invoices.\n",
    "- **Financial Reports**: Extracting line-item details from financial statements.\n",
    "- **Automation**: Automating data extraction from invoices for accounting, reporting, or auditing purposes."
   ]
  },
  {
   "cell_type": "code",
   "execution_count": 13,
   "id": "22691d5d-adf2-4bda-9635-c82b38432048",
   "metadata": {},
   "outputs": [],
   "source": [
    "import re\n",
    "import pdfplumber\n",
    "import pandas as pd"
   ]
  },
  {
   "cell_type": "code",
   "execution_count": 14,
   "id": "6081dee1-0753-46be-b207-bb86ab599836",
   "metadata": {},
   "outputs": [],
   "source": [
    "# Define the path to the PDF file\n",
    "path = r\"C:\\Users\\Quynh Pham\\Desktop\\Import pdf\\Invoice2.pdf\""
   ]
  },
  {
   "cell_type": "markdown",
   "id": "dc08cbf6-1e2a-48d8-ba3c-b1e4ac1eeaf6",
   "metadata": {},
   "source": [
    "# Read in pdf file"
   ]
  },
  {
   "cell_type": "code",
   "execution_count": 17,
   "id": "1538c4f9-4d26-4de6-be42-391507d82b68",
   "metadata": {},
   "outputs": [
    {
     "name": "stdout",
     "output_type": "stream",
     "text": [
      "Denny Gunawan\n",
      "221 Queen St\n",
      "Melbourne VIC 3000\n",
      "$39.60\n",
      "123 Somewhere St, Melbourne VIC 3000\n",
      "(03) 1234 5678\n",
      "Invoice Number: #20130304\n",
      "Organic Items Price/kg Quantity(kg) Subtotal\n",
      "Apple $5.00 1 $5.00\n",
      "Orange $1.99 2 $3.98\n",
      "Watermelon $1.69 3 $5.07\n",
      "Mango $9.56 2 $19.12\n",
      "Peach $2.99 1 $2.99\n",
      "Subtotal $36.00\n",
      "GST (10%) $3.60\n",
      "Total $39.60\n",
      "* Lorem ipsum dolor sit amet, consectetur adipiscing elit. Aliquam sodales\n",
      "dapibus fermentum. Nunc adipiscing, magna sed scelerisque cursus, erat\n",
      "lectus dapibus urna, sed facilisis leo dui et ipsum.\n"
     ]
    }
   ],
   "source": [
    "# Open the PDF with pdfplumber\n",
    "with pdfplumber.open(path) as pdf:\n",
    "    # iterate over each page\n",
    "    for page in pdf.pages:\n",
    "        # extract text\n",
    "        text = page.extract_text()\n",
    "        print(text)"
   ]
  },
  {
   "cell_type": "markdown",
   "id": "a625df19-8403-47ed-9863-6d753931aabf",
   "metadata": {},
   "source": [
    "## Extract tables"
   ]
  },
  {
   "cell_type": "code",
   "execution_count": 16,
   "id": "5756c136-d596-439b-91ed-cb6bf3515430",
   "metadata": {},
   "outputs": [
    {
     "name": "stdout",
     "output_type": "stream",
     "text": [
      "['Organic Items', 'Price/kg', 'Quantity(kg)', 'Subtotal']\n",
      "['Orange', '$1.99', '2', '$3.98']\n",
      "['Mango', '$9.56', '2', '$19.12']\n",
      "['', '', '']\n"
     ]
    }
   ],
   "source": [
    "with pdfplumber.open(path) as pdf:\n",
    "    # iterate over each page   \n",
    "    for page in pdf.pages:\n",
    "        # Extract tables from the page\n",
    "        tables = page.extract_tables()\n",
    "\n",
    "        # Display the extracted table rows\n",
    "        for table in tables:\n",
    "            for row in table:\n",
    "                print(row)"
   ]
  },
  {
   "cell_type": "markdown",
   "id": "98d3210a-138c-4aab-a59d-0d903b738abb",
   "metadata": {},
   "source": [
    "**pdfplumber** provides a convenient way to extract tables using the `.extract_tables()` or `.extract_table()` methods. However, as seen in this case, the tables were not extracted accurately, with some values missing or misaligned. \n",
    "\n",
    "To address this, we can manually define a pattern for each line in the table and iterate through the entire PDF file to extract the data more accurately, ensuring that no values are missed. The code is as follows:"
   ]
  },
  {
   "cell_type": "code",
   "execution_count": 18,
   "id": "5e6900d7-4912-487b-b114-21e27698cc0d",
   "metadata": {},
   "outputs": [
    {
     "name": "stdout",
     "output_type": "stream",
     "text": [
      "[('Apple', '5.00', '1', '5.00'), ('Orange', '1.99', '2', '3.98'), ('Watermelon', '1.69', '3', '5.07'), ('Mango', '9.56', '2', '19.12'), ('Peach', '2.99', '1', '2.99')]\n"
     ]
    }
   ],
   "source": [
    "# Regular expression to capture the items, prices, quantity, and subtotal\n",
    "pattern = r'([A-Za-z]+)\\s+\\$(\\d+\\.\\d+)\\s+(\\d+)\\s+\\$(\\d+\\.\\d+)'\n",
    "\n",
    "# Find all matches of the pattern\n",
    "matches = re.findall(pattern, text)\n",
    "\n",
    "# Output the extracted items\n",
    "print(matches)"
   ]
  },
  {
   "cell_type": "code",
   "execution_count": 19,
   "id": "9052bbc8-a728-4118-a1c9-0d6b45f12ca5",
   "metadata": {},
   "outputs": [
    {
     "data": {
      "text/html": [
       "<div>\n",
       "<style scoped>\n",
       "    .dataframe tbody tr th:only-of-type {\n",
       "        vertical-align: middle;\n",
       "    }\n",
       "\n",
       "    .dataframe tbody tr th {\n",
       "        vertical-align: top;\n",
       "    }\n",
       "\n",
       "    .dataframe thead th {\n",
       "        text-align: right;\n",
       "    }\n",
       "</style>\n",
       "<table border=\"1\" class=\"dataframe\">\n",
       "  <thead>\n",
       "    <tr style=\"text-align: right;\">\n",
       "      <th></th>\n",
       "      <th>Item</th>\n",
       "      <th>Price/kg</th>\n",
       "      <th>Quantity(kg)</th>\n",
       "      <th>Subtotal</th>\n",
       "    </tr>\n",
       "  </thead>\n",
       "  <tbody>\n",
       "    <tr>\n",
       "      <th>0</th>\n",
       "      <td>Apple</td>\n",
       "      <td>5.00</td>\n",
       "      <td>1</td>\n",
       "      <td>5.00</td>\n",
       "    </tr>\n",
       "    <tr>\n",
       "      <th>1</th>\n",
       "      <td>Orange</td>\n",
       "      <td>1.99</td>\n",
       "      <td>2</td>\n",
       "      <td>3.98</td>\n",
       "    </tr>\n",
       "    <tr>\n",
       "      <th>2</th>\n",
       "      <td>Watermelon</td>\n",
       "      <td>1.69</td>\n",
       "      <td>3</td>\n",
       "      <td>5.07</td>\n",
       "    </tr>\n",
       "    <tr>\n",
       "      <th>3</th>\n",
       "      <td>Mango</td>\n",
       "      <td>9.56</td>\n",
       "      <td>2</td>\n",
       "      <td>19.12</td>\n",
       "    </tr>\n",
       "    <tr>\n",
       "      <th>4</th>\n",
       "      <td>Peach</td>\n",
       "      <td>2.99</td>\n",
       "      <td>1</td>\n",
       "      <td>2.99</td>\n",
       "    </tr>\n",
       "  </tbody>\n",
       "</table>\n",
       "</div>"
      ],
      "text/plain": [
       "         Item  Price/kg  Quantity(kg)  Subtotal\n",
       "0       Apple      5.00             1      5.00\n",
       "1      Orange      1.99             2      3.98\n",
       "2  Watermelon      1.69             3      5.07\n",
       "3       Mango      9.56             2     19.12\n",
       "4       Peach      2.99             1      2.99"
      ]
     },
     "execution_count": 19,
     "metadata": {},
     "output_type": "execute_result"
    }
   ],
   "source": [
    "# Create a DataFrame from the extracted data\n",
    "df = pd.DataFrame(matches, columns=['Item', 'Price/kg', 'Quantity(kg)', 'Subtotal'])\n",
    "\n",
    "# Convert Price/kg, Quantity(kg), and Subtotal columns to numeric types\n",
    "df['Price/kg'] = pd.to_numeric(df['Price/kg'])\n",
    "df['Quantity(kg)'] = pd.to_numeric(df['Quantity(kg)'])\n",
    "df['Subtotal'] = pd.to_numeric(df['Subtotal'])\n",
    "\n",
    "# Print out the result\n",
    "df"
   ]
  },
  {
   "cell_type": "code",
   "execution_count": null,
   "id": "115f4f62-6663-442c-ac39-ee10c7888a5c",
   "metadata": {},
   "outputs": [],
   "source": []
  }
 ],
 "metadata": {
  "kernelspec": {
   "display_name": "Python 3 (ipykernel)",
   "language": "python",
   "name": "python3"
  },
  "language_info": {
   "codemirror_mode": {
    "name": "ipython",
    "version": 3
   },
   "file_extension": ".py",
   "mimetype": "text/x-python",
   "name": "python",
   "nbconvert_exporter": "python",
   "pygments_lexer": "ipython3",
   "version": "3.9.13"
  }
 },
 "nbformat": 4,
 "nbformat_minor": 5
}
