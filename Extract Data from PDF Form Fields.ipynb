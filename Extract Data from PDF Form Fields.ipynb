{
 "cells": [
  {
   "cell_type": "markdown",
   "id": "7046de04-5724-463b-9444-f7c6214e558c",
   "metadata": {
    "tags": []
   },
   "source": [
    "# Reading Data from PDF Form Fields Using PyPDF\n",
    "\n",
    "This section demonstrates how to read data from interactive form fields within a PDF using **PyPDF**. PyPDF allows you to extract values from fields like text boxes, checkboxes, and other types of input fields commonly found in interactive PDFs. This can be useful when working with forms that contain user-entered data, such as contracts, applications, or surveys.\n",
    "\n",
    "## Use Case\n",
    "- Extracting user input or predefined data from interactive PDF forms.\n",
    "- Automating the process of reading form fields from multiple PDFs for data analysis or record-keeping."
   ]
  },
  {
   "cell_type": "code",
   "execution_count": 1,
   "id": "ad4f1762-0efb-42ee-a9d7-109e54b6e4a4",
   "metadata": {},
   "outputs": [],
   "source": [
    "from pypdf import PdfReader"
   ]
  },
  {
   "cell_type": "markdown",
   "id": "607a1097-0cbd-4670-a7f9-a84b51c8f593",
   "metadata": {},
   "source": [
    "## Read in Pdf file"
   ]
  },
  {
   "cell_type": "code",
   "execution_count": 2,
   "id": "c43d4882-0870-45ae-b228-efde158c5581",
   "metadata": {},
   "outputs": [],
   "source": [
    "# Define the path to the PDF file\n",
    "path = r\"C:\\Users\\Quynh Pham\\Desktop\\Import pdf\\PdfFormExample.pdf\""
   ]
  },
  {
   "cell_type": "code",
   "execution_count": 3,
   "id": "8e117058-753b-4e7f-9ce8-35b8cf15c0d0",
   "metadata": {},
   "outputs": [],
   "source": [
    "# Create a PdfReader object to read the PDF\n",
    "reader = dfReader(path)"
   ]
  },
  {
   "cell_type": "code",
   "execution_count": 4,
   "id": "9643d660-022c-40c1-92d7-ce318919e731",
   "metadata": {},
   "outputs": [
    {
     "name": "stdout",
     "output_type": "stream",
     "text": [
      "{'/CreationDate': \"D:20130629204853+02'00'\", '/Creator': 'Writer', '/Keywords': 'PDF Form', '/Producer': 'OpenOffice.org 3.4', '/Title': 'PDF Form Example'}\n"
     ]
    }
   ],
   "source": [
    "# Get the metadata and print out the result\n",
    "info = reader.metadata\n",
    "print(info)"
   ]
  },
  {
   "cell_type": "code",
   "execution_count": 5,
   "id": "284bb9f6-60e3-410e-b5cf-360c85c21a84",
   "metadata": {},
   "outputs": [
    {
     "name": "stdout",
     "output_type": "stream",
     "text": [
      "There are 1 pages in the PDF.\n"
     ]
    }
   ],
   "source": [
    "# Print the number of pages in the PDF\n",
    "print(f\"There are {len(reader.pages)} pages in the PDF.\")"
   ]
  },
  {
   "cell_type": "code",
   "execution_count": 6,
   "id": "19214244-b78e-4086-9793-31df1e6171fc",
   "metadata": {},
   "outputs": [
    {
     "name": "stdout",
     "output_type": "stream",
     "text": [
      "PDF Form Example\n",
      "This is an example of a user fillable PDF form. Normally PDF is used as a final publishing format. \n",
      "However PDF has an option to be used as an entry form that can be edited and saved by the user.\n",
      "The fields of this form have been selected to demonstrate as many as possible of the common \n",
      "entry fields.\n",
      "This document and PDF form have been created with OpenOffice (version 3.4.0).\n",
      "To fill out the form, make sure the PDF file is not read-only. If the file is read-only save it first to a \n",
      "folder or computer desktop. Close this file and open the saved file.\n",
      "Please fill out the following fields. Important fields are marked yellow.\n",
      "Given Name:\n",
      "Family Name:\n",
      "Address 1:   House nr:\n",
      "Address 2:\n",
      "Postcode: City:  \n",
      "Country:\n",
      "Gender:\n",
      "Height (cm):\n",
      "Driving License:\n",
      "I speak and understand (tick all that apply): \n",
      "      \n",
      "Favourite colour:\n",
      "Important: Save the completed PDF form (use menu File - Save).\n",
      "Deutsch English Français Esperanto Latin\n"
     ]
    }
   ],
   "source": [
    "# Extract text from all pages in the PDF and store in a list\n",
    "for i in range(len(reader.pages)):\n",
    "    page = reader.pages[i]\n",
    "    print(page.extract_text())"
   ]
  },
  {
   "cell_type": "markdown",
   "id": "2da6893a-6f87-463c-9151-d8022203aaff",
   "metadata": {},
   "source": [
    "## Extract data from form fields"
   ]
  },
  {
   "cell_type": "code",
   "execution_count": 8,
   "id": "8ed4fdb1-4faf-42d1-89a0-f810cbbac50c",
   "metadata": {},
   "outputs": [],
   "source": [
    "# Function to extract form field values from a PDF file\n",
    "def extract_form_values(path):\n",
    "    \"\"\"\n",
    "    This function extracts form field data from a PDF file.\n",
    "\n",
    "    Parameters:\n",
    "    path (str): The file path to the PDF document.\n",
    "\n",
    "    Returns:\n",
    "    dict: A dictionary containing form field names as keys and their respective values. \n",
    "          If no form fields are present, returns None.\n",
    "    \"\"\"\n",
    "    \n",
    "    with open(path, 'rb') as file:\n",
    "        reader = PdfReader(file)  \n",
    "        \n",
    "        # Check if the PDF file contains any form fields. If there are no fields, return None (no form data to extract)\n",
    "        if not reader.get_fields():\n",
    "            return None\n",
    "        \n",
    "        form_fields = reader.get_fields() # Read all the form fields into a dictionary called form_fields\n",
    "        field_values = {} # Initialize an empty dictionary to store the extracted field values\n",
    "        \n",
    "        for field_name, field_data in form_fields.items():\n",
    "            # Retrieve the actual value of the field (denoted by '/V' key in the form field metadata)\n",
    "            # If no value exists for the field, return None\n",
    "            field_values[field_name] = field_data.get('/V', None)\n",
    "        \n",
    "    return field_values"
   ]
  },
  {
   "cell_type": "code",
   "execution_count": 9,
   "id": "f00c3302-6ded-44c7-97a3-b9d9d1333baa",
   "metadata": {},
   "outputs": [
    {
     "name": "stdout",
     "output_type": "stream",
     "text": [
      "Field Name: Given Name Text Box, Value: Quynh Dinh Hảai \n",
      "Field Name: Family Name Text Box, Value: Pham\n",
      "Field Name: House nr Text Box, Value: 20\n",
      "Field Name: Address 2 Text Box, Value: \n",
      "Field Name: Postcode Text Box, Value: 10315\n",
      "Field Name: Country Combo Box, Value: Germany\n",
      "Field Name: Height Formatted Field, Value: 158\n",
      "Field Name: City Text Box, Value: Berlin\n",
      "Field Name: Driving License Check Box, Value: /Off\n",
      "Field Name: Favourite Colour List Box, Value: Green\n",
      "Field Name: Language 1 Check Box, Value: /Yes\n",
      "Field Name: Language 2 Check Box, Value: /Yes\n",
      "Field Name: Language 3 Check Box, Value: /Off\n",
      "Field Name: Language 4 Check Box, Value: /Off\n",
      "Field Name: Language 5 Check Box, Value: /Off\n",
      "Field Name: Gender List Box, Value: Woman\n",
      "Field Name: Address 1 Text Box, Value: Allee der Kosmonauten\n"
     ]
    }
   ],
   "source": [
    "# Extract form values from the PDF file\n",
    "form_values = extract_form_values(path)\n",
    "\n",
    "# Check if form_values is not None, meaning form data was successfully extracted\n",
    "# If form_values is None, it means no form data was found or an error occurred\n",
    "if form_values is not None:\n",
    "    for field, value in form_values.items():\n",
    "        print(f\"Field Name: {field}, Value: {value}\")\n",
    "else:\n",
    "    print(\"No form values found or an error occurred.\")"
   ]
  },
  {
   "cell_type": "code",
   "execution_count": null,
   "id": "be2d0c2a-4092-4d2c-a8fb-946036f1446f",
   "metadata": {},
   "outputs": [],
   "source": []
  }
 ],
 "metadata": {
  "kernelspec": {
   "display_name": "Python 3 (ipykernel)",
   "language": "python",
   "name": "python3"
  },
  "language_info": {
   "codemirror_mode": {
    "name": "ipython",
    "version": 3
   },
   "file_extension": ".py",
   "mimetype": "text/x-python",
   "name": "python",
   "nbconvert_exporter": "python",
   "pygments_lexer": "ipython3",
   "version": "3.9.13"
  }
 },
 "nbformat": 4,
 "nbformat_minor": 5
}
